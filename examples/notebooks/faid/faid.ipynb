{
 "cells": [
  {
   "cell_type": "markdown",
   "metadata": {},
   "source": [
    "In this example, we will use the `gds_fdtd` package to simulate the effect of lithography on a subwavelength-to-strip waveguide mode converter using Lumerical FDTD and demonstrate how fabrication-aware inverse design can be used to optimize the design for a given lithography process.\n",
    "\n",
    "* Complete tutorial slides can be found in: https://docs.google.com/presentation/d/19zkmcmacTlaXM4p33O1G7T-bS8uGRtZarNtOIAY-I94/edit?usp=sharing\n",
    "\n",
    "* Reference work: https://opg.optica.org/ol/abstract.cfm?uri=ol-50-1-117\n"
   ]
  },
  {
   "cell_type": "markdown",
   "metadata": {},
   "source": [
    "### Lumerical Setup\n",
    "First, we need to ensure that Lumerical FDTD is installed and that the api 'lumapi' can be imported. "
   ]
  },
  {
   "cell_type": "code",
   "execution_count": 4,
   "metadata": {},
   "outputs": [
    {
     "name": "stdout",
     "output_type": "stream",
     "text": [
      "Lumerical lumapi.py path: /opt/lumerical/v242/api/python/lumapi.py\n",
      "Simulation project path: /home/mustafa/git/gds_fdtd/examples/notebooks\n"
     ]
    }
   ],
   "source": [
    "import fnmatch\n",
    "import sys\n",
    "import os\n",
    "import platform\n",
    "\n",
    "mode = None  # Variable for the Lumerical Python API\n",
    "\n",
    "def find_lumapi():\n",
    "    # Detect OS and set search path for Lumerical\n",
    "    system = platform.system()\n",
    "    if system == 'Darwin':\n",
    "        path_app = '/Applications'\n",
    "    elif system == 'Linux':\n",
    "        path_app = '/opt/'\n",
    "    elif system == 'Windows':\n",
    "        path_app = 'C:\\\\Program Files'\n",
    "    else:\n",
    "        raise OSError('Unsupported Operating System.')\n",
    "\n",
    "    # Search for folders containing \"Lumerical\" in the expected directory\n",
    "    lumerical_folders = [s for s in os.listdir(path_app) if \"lumerical\" in s.lower()]\n",
    "    \n",
    "    if not lumerical_folders:\n",
    "        raise FileNotFoundError(f\"No Lumerical installation found in {path_app}.\")\n",
    "\n",
    "    # Check sub-folders for lumapi.py\n",
    "    search_str = 'lumapi.py'\n",
    "    for dir_path in lumerical_folders:\n",
    "        for root, _, filenames in os.walk(os.path.join(path_app, dir_path), followlinks=True):\n",
    "            if search_str in filenames:\n",
    "                return os.path.join(root, search_str)\n",
    "\n",
    "    raise FileNotFoundError(\"Error: lumapi.py could not be found in the expected directories.\")\n",
    "\n",
    "try:\n",
    "    lumapi_path = find_lumapi()\n",
    "    if lumapi_path not in sys.path:\n",
    "        sys.path.append(os.path.dirname(lumapi_path))\n",
    "\n",
    "    print(f'Lumerical lumapi.py path: {lumapi_path}')\n",
    "\n",
    "except Exception as e:\n",
    "    print(f\"Error: {e}\")\n",
    "    sys.exit(1)  # Exit with error\n",
    "\n",
    "# Current working directory for simulation\n",
    "dir_path = os.path.dirname(os.getcwd())\n",
    "print(f'Simulation project path: {dir_path}')\n",
    "\n",
    "import lumapi\n"
   ]
  },
  {
   "cell_type": "markdown",
   "metadata": {},
   "source": [
    "### gds_fdtd Setup\n",
    "Next, we need to import the necessary modules from the `gds_fdtd` package."
   ]
  },
  {
   "cell_type": "code",
   "execution_count": 5,
   "metadata": {},
   "outputs": [],
   "source": [
    "from gds_fdtd.lum_tools import to_lumerical, make_sim_lum\n",
    "from gds_fdtd.core import parse_yaml_tech\n",
    "from gds_fdtd.simprocessor import load_component_from_tech\n",
    "from gds_fdtd.lyprocessor import load_layout"
   ]
  },
  {
   "cell_type": "markdown",
   "metadata": {},
   "source": [
    "### Technology and Layout\n",
    "\n",
    "We now need to import the technology yaml file in which we define the process stack and load the layouts."
   ]
  },
  {
   "cell_type": "code",
   "execution_count": 6,
   "metadata": {},
   "outputs": [],
   "source": [
    "tech_path = os.path.join(os.getcwd(), \"tech.yaml\")  # note materials definition format in yaml\n",
    "technology = parse_yaml_tech(tech_path)"
   ]
  },
  {
   "attachments": {
    "image.png": {
     "image/png": "[encoded data removed]"
    }
   },
   "cell_type": "markdown",
   "metadata": {},
   "source": [
    "We will be loading and simulating the layout in the `gds` directory which contain three examples:\n",
    "1. A subwavelength-to-strip waveguide mode converter optimized using inverse design.\n",
    "2. A subwavelength-to-strip waveguide mode converter optimized using inverse design after lithography.\n",
    "3. A subwavelength-to-strip waveguide mode converter optimized using fabrication-aware inverse design after lithography.\n",
    "\n",
    "![](attachment:image.png)\n",
    "\n"
   ]
  },
  {
   "cell_type": "code",
   "execution_count": 8,
   "metadata": {},
   "outputs": [],
   "source": [
    "fpath_swg_nominal = os.path.join(os.getcwd(), \"gds\", \"SWG_nominal.gds\")\n",
    "fpath_swg_nominal_litho = os.path.join(os.getcwd(), \"gds\", \"SWG_nominal_postduv.gds\")\n",
    "fpath_swg_faid_litho = os.path.join(os.getcwd(), \"gds\", \"SWG_faid_postduv.gds\")"
   ]
  },
  {
   "cell_type": "markdown",
   "metadata": {},
   "source": [
    "### Executing FDTD Simulation\n",
    "\n",
    "We first load the layout and convert it to a component and run the simulation to extract the S-parameters.\n",
    "\n",
    "For case 1: Nominal subwavelength-to-strip waveguide mode converter optimized using inverse design.\n"
   ]
  },
  {
   "cell_type": "code",
   "execution_count": null,
   "metadata": {},
   "outputs": [],
   "source": [
    "\n",
    "layout = load_layout(fpath_swg_nominal)\n",
    "component = load_component_from_tech(ly=layout, tech=technology)\n",
    "\n",
    "fdtd = lumapi.FDTD()  # can also be mode/device\n",
    "\n",
    "to_lumerical(c=component, lum=fdtd)\n",
    "\n",
    "sparams_swg_nominal = make_sim_lum(\n",
    "    c=component,\n",
    "    lum=fdtd,\n",
    "    wavl_min=1.5,\n",
    "    wavl_max=1.6,\n",
    "    wavl_pts=101,\n",
    "    width_ports=3.0,\n",
    "    depth_ports=2.0,\n",
    "    symmetry=(0, 0, 0),\n",
    "    pol=\"TE\",\n",
    "    num_modes=1,\n",
    "    boundary=\"pml\",\n",
    "    mesh=1,\n",
    "    run_time_factor=50,\n",
    ")\n"
   ]
  }
 ],
 "metadata": {
  "kernelspec": {
   "display_name": "faid",
   "language": "python",
   "name": "python3"
  },
  "language_info": {
   "codemirror_mode": {
    "name": "ipython",
    "version": 3
   },
   "file_extension": ".py",
   "mimetype": "text/x-python",
   "name": "python",
   "nbconvert_exporter": "python",
   "pygments_lexer": "ipython3",
   "version": "3.10.15"
  }
 },
 "nbformat": 4,
 "nbformat_minor": 2
}
